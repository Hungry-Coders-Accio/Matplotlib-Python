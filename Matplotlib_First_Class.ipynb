{
 "cells": [
  {
   "cell_type": "markdown",
   "id": "2a6f8feb",
   "metadata": {},
   "source": [
    "# Matplotlib: First Steps\n"
   ]
  },
  {
   "cell_type": "markdown",
   "id": "5f25c959",
   "metadata": {},
   "source": [
    "## 0) Setup"
   ]
  },
  {
   "cell_type": "code",
   "execution_count": null,
   "id": "92c7dec2",
   "metadata": {},
   "outputs": [],
   "source": [
    "import pandas as pd\n",
    "import matplotlib.pyplot as plt\n"
   ]
  },
  {
   "cell_type": "markdown",
   "id": "795a10d0",
   "metadata": {},
   "source": [
    "## 1) Create a Pandas Series"
   ]
  },
  {
   "cell_type": "code",
   "execution_count": null,
   "id": "5f337965",
   "metadata": {},
   "outputs": [],
   "source": [
    "sales = pd.Series([12, 18, 9, 15, 20], index=['Mon','Tue','Wed','Thu','Fri'])\n",
    "sales"
   ]
  },
  {
   "cell_type": "markdown",
   "id": "319b7a6a",
   "metadata": {},
   "source": [
    "### 1A) Line chart from Series"
   ]
  },
  {
   "cell_type": "code",
   "execution_count": null,
   "id": "a7287926",
   "metadata": {},
   "outputs": [],
   "source": [
    "plt.figure()\n",
    "plt.plot(sales.index, sales.values)\n",
    "plt.title('Sales (Line)')\n",
    "plt.xlabel('Day')\n",
    "plt.ylabel('Units')\n",
    "plt.grid(True)\n",
    "plt.show()"
   ]
  },
  {
   "cell_type": "markdown",
   "id": "465c6ae7",
   "metadata": {},
   "source": [
    "### 1B) Bar chart from Series"
   ]
  },
  {
   "cell_type": "code",
   "execution_count": null,
   "id": "73fdb8ba",
   "metadata": {},
   "outputs": [],
   "source": [
    "plt.figure()\n",
    "plt.bar(sales.index, sales.values)\n",
    "plt.title('Sales (Bar)')\n",
    "plt.xlabel('Day')\n",
    "plt.ylabel('Units')\n",
    "plt.show()"
   ]
  },
  {
   "cell_type": "markdown",
   "id": "f645a36d",
   "metadata": {},
   "source": [
    "### 1C) Pie chart from Series"
   ]
  },
  {
   "cell_type": "code",
   "execution_count": null,
   "id": "af29ee82",
   "metadata": {},
   "outputs": [],
   "source": [
    "plt.figure()\n",
    "plt.pie(sales.values, labels=sales.index, autopct='%1.0f%%')\n",
    "plt.title('Sales Share (Pie)')\n",
    "plt.show()"
   ]
  },
  {
   "cell_type": "markdown",
   "id": "fa1bea8a",
   "metadata": {},
   "source": [
    "## 2) Create a DataFrame"
   ]
  },
  {
   "cell_type": "code",
   "execution_count": null,
   "id": "bcc497c2",
   "metadata": {},
   "outputs": [],
   "source": [
    "data = {\n",
    "    'Month': ['Jan','Feb','Mar','Apr','May'],\n",
    "    'Product_A': [120, 150, 130, 160, 180],\n",
    "    'Product_B': [80,  90,  110, 100, 120]\n",
    "}\n",
    "df = pd.DataFrame(data)\n",
    "df"
   ]
  },
  {
   "cell_type": "markdown",
   "id": "5e750f12",
   "metadata": {},
   "source": [
    "### 2A) Line chart from DataFrame"
   ]
  },
  {
   "cell_type": "code",
   "execution_count": null,
   "id": "c717be01",
   "metadata": {},
   "outputs": [],
   "source": [
    "plt.figure()\n",
    "plt.plot(df['Month'], df['Product_A'], marker='o', label='Product A')\n",
    "plt.plot(df['Month'], df['Product_B'], marker='s', label='Product B')\n",
    "plt.title('Monthly Sales (Line)')\n",
    "plt.xlabel('Month')\n",
    "plt.ylabel('Units')\n",
    "plt.legend()\n",
    "plt.grid(True)\n",
    "plt.show()"
   ]
  },
  {
   "cell_type": "markdown",
   "id": "48859962",
   "metadata": {},
   "source": [
    "### 2B) Bar chart from DataFrame"
   ]
  },
  {
   "cell_type": "code",
   "execution_count": null,
   "id": "4a691f00",
   "metadata": {},
   "outputs": [],
   "source": [
    "import numpy as np\n",
    "x = np.arange(len(df['Month']))\n",
    "width = 0.35\n",
    "\n",
    "plt.figure()\n",
    "plt.bar(x - width/2, df['Product_A'], width, label='Product A')\n",
    "plt.bar(x + width/2, df['Product_B'], width, label='Product B')\n",
    "plt.xticks(x, df['Month'])\n",
    "plt.title('Monthly Sales (Bar)')\n",
    "plt.xlabel('Month')\n",
    "plt.ylabel('Units')\n",
    "plt.legend()\n",
    "plt.show()"
   ]
  },
  {
   "cell_type": "markdown",
   "id": "9ec73057",
   "metadata": {},
   "source": [
    "### 2C) Pie chart from DataFrame (total share)"
   ]
  },
  {
   "cell_type": "code",
   "execution_count": null,
   "id": "03303516",
   "metadata": {},
   "outputs": [],
   "source": [
    "totals = [df['Product_A'].sum(), df['Product_B'].sum()]\n",
    "labels = ['Product A','Product B']\n",
    "\n",
    "plt.figure()\n",
    "plt.pie(totals, labels=labels, autopct='%1.0f%%')\n",
    "plt.title('Total Sales Share')\n",
    "plt.show()"
   ]
  }
 ],
 "metadata": {
  "kernelspec": {
   "display_name": "Python 3",
   "language": "python",
   "name": "python3"
  },
  "language_info": {
   "codemirror_mode": {
    "name": "ipython",
    "version": 3
   },
   "file_extension": ".py",
   "mimetype": "text/x-python",
   "name": "python",
   "nbconvert_exporter": "python",
   "pygments_lexer": "ipython3",
   "version": "3.11.9"
  }
 },
 "nbformat": 4,
 "nbformat_minor": 5
}
